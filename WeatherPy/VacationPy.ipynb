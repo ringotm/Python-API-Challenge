{
 "cells": [
  {
   "cell_type": "code",
   "execution_count": 13,
   "metadata": {},
   "outputs": [],
   "source": [
    "import matplotlib.pyplot as plt\n",
    "import pandas as pd\n",
    "import numpy as np\n",
    "import requests\n",
    "import gmaps\n",
    "import os\n",
    "\n",
    "from api_keys import g_key"
   ]
  },
  {
   "cell_type": "code",
   "execution_count": 14,
   "metadata": {},
   "outputs": [
    {
     "data": {
      "text/html": [
       "<div>\n",
       "<style scoped>\n",
       "    .dataframe tbody tr th:only-of-type {\n",
       "        vertical-align: middle;\n",
       "    }\n",
       "\n",
       "    .dataframe tbody tr th {\n",
       "        vertical-align: top;\n",
       "    }\n",
       "\n",
       "    .dataframe thead th {\n",
       "        text-align: right;\n",
       "    }\n",
       "</style>\n",
       "<table border=\"1\" class=\"dataframe\">\n",
       "  <thead>\n",
       "    <tr style=\"text-align: right;\">\n",
       "      <th></th>\n",
       "      <th>City</th>\n",
       "      <th>Cloudiness</th>\n",
       "      <th>Country</th>\n",
       "      <th>Date</th>\n",
       "      <th>Humidity</th>\n",
       "      <th>Lat</th>\n",
       "      <th>Lng</th>\n",
       "      <th>Max Temp</th>\n",
       "      <th>Wind Speed</th>\n",
       "    </tr>\n",
       "  </thead>\n",
       "  <tbody>\n",
       "    <tr>\n",
       "      <th>0</th>\n",
       "      <td>Natal</td>\n",
       "      <td>40</td>\n",
       "      <td>BR</td>\n",
       "      <td>1592242354</td>\n",
       "      <td>62</td>\n",
       "      <td>-5.79</td>\n",
       "      <td>-35.21</td>\n",
       "      <td>87.80</td>\n",
       "      <td>10.29</td>\n",
       "    </tr>\n",
       "    <tr>\n",
       "      <th>1</th>\n",
       "      <td>Hilo</td>\n",
       "      <td>1</td>\n",
       "      <td>US</td>\n",
       "      <td>1592242585</td>\n",
       "      <td>83</td>\n",
       "      <td>19.73</td>\n",
       "      <td>-155.09</td>\n",
       "      <td>72.00</td>\n",
       "      <td>3.36</td>\n",
       "    </tr>\n",
       "    <tr>\n",
       "      <th>2</th>\n",
       "      <td>Bluff</td>\n",
       "      <td>32</td>\n",
       "      <td>NZ</td>\n",
       "      <td>1592242586</td>\n",
       "      <td>90</td>\n",
       "      <td>-46.60</td>\n",
       "      <td>168.33</td>\n",
       "      <td>49.01</td>\n",
       "      <td>9.84</td>\n",
       "    </tr>\n",
       "    <tr>\n",
       "      <th>3</th>\n",
       "      <td>Salalah</td>\n",
       "      <td>40</td>\n",
       "      <td>OM</td>\n",
       "      <td>1592242343</td>\n",
       "      <td>94</td>\n",
       "      <td>17.02</td>\n",
       "      <td>54.09</td>\n",
       "      <td>84.20</td>\n",
       "      <td>6.93</td>\n",
       "    </tr>\n",
       "    <tr>\n",
       "      <th>4</th>\n",
       "      <td>Mataura</td>\n",
       "      <td>5</td>\n",
       "      <td>NZ</td>\n",
       "      <td>1592242589</td>\n",
       "      <td>90</td>\n",
       "      <td>-46.19</td>\n",
       "      <td>168.86</td>\n",
       "      <td>43.27</td>\n",
       "      <td>3.89</td>\n",
       "    </tr>\n",
       "  </tbody>\n",
       "</table>\n",
       "</div>"
      ],
      "text/plain": [
       "      City  Cloudiness Country        Date  Humidity    Lat     Lng  Max Temp  \\\n",
       "0    Natal          40      BR  1592242354        62  -5.79  -35.21     87.80   \n",
       "1     Hilo           1      US  1592242585        83  19.73 -155.09     72.00   \n",
       "2    Bluff          32      NZ  1592242586        90 -46.60  168.33     49.01   \n",
       "3  Salalah          40      OM  1592242343        94  17.02   54.09     84.20   \n",
       "4  Mataura           5      NZ  1592242589        90 -46.19  168.86     43.27   \n",
       "\n",
       "   Wind Speed  \n",
       "0       10.29  \n",
       "1        3.36  \n",
       "2        9.84  \n",
       "3        6.93  \n",
       "4        3.89  "
      ]
     },
     "execution_count": 14,
     "metadata": {},
     "output_type": "execute_result"
    }
   ],
   "source": [
    "#read into cities data into a dataframe, drop first column\n",
    "df = pd.read_csv('output_data/cities.csv')\n",
    "df.drop(columns='Unnamed: 0', axis=1, inplace=True)\n",
    "df.head()"
   ]
  },
  {
   "cell_type": "markdown",
   "metadata": {},
   "source": [
    "## **Heatmap**"
   ]
  },
  {
   "cell_type": "code",
   "execution_count": 15,
   "metadata": {},
   "outputs": [
    {
     "data": {
      "application/vnd.jupyter.widget-view+json": {
       "model_id": "59387a5fe3a249218e69227ec1142191",
       "version_major": 2,
       "version_minor": 0
      },
      "text/plain": [
       "Figure(layout=FigureLayout(border='1px solid black', height='600px', padding='1px', width='900px'))"
      ]
     },
     "metadata": {},
     "output_type": "display_data"
    }
   ],
   "source": [
    "#configure gmaps and set figure layout\n",
    "gmaps.configure(api_key=g_key)\n",
    "figure_layout = {\n",
    "    'width': '900px',\n",
    "    'height': '600px',\n",
    "    'border': '1px solid black',\n",
    "    'padding': '1px'\n",
    "    }\n",
    "\n",
    "#assign lat and long from df to a list\n",
    "locations = df[['Lat', 'Lng']]\n",
    "\n",
    "#assign humidity to the weights variable\n",
    "weights = df['Humidity']\n",
    "\n",
    "#create gmaps figure\n",
    "fig = gmaps.figure(layout=figure_layout)\n",
    "\n",
    "#add heatmap to figure\n",
    "fig.add_layer(gmaps.heatmap_layer(locations, weights=weights, max_intensity=100, dissipating=False, point_radius=3))\n",
    "fig"
   ]
  },
  {
   "cell_type": "markdown",
   "metadata": {},
   "source": [
    "## **Ideal Locations**"
   ]
  },
  {
   "cell_type": "code",
   "execution_count": 16,
   "metadata": {},
   "outputs": [
    {
     "data": {
      "text/html": [
       "<div>\n",
       "<style scoped>\n",
       "    .dataframe tbody tr th:only-of-type {\n",
       "        vertical-align: middle;\n",
       "    }\n",
       "\n",
       "    .dataframe tbody tr th {\n",
       "        vertical-align: top;\n",
       "    }\n",
       "\n",
       "    .dataframe thead th {\n",
       "        text-align: right;\n",
       "    }\n",
       "</style>\n",
       "<table border=\"1\" class=\"dataframe\">\n",
       "  <thead>\n",
       "    <tr style=\"text-align: right;\">\n",
       "      <th></th>\n",
       "      <th>City</th>\n",
       "      <th>Cloudiness</th>\n",
       "      <th>Country</th>\n",
       "      <th>Date</th>\n",
       "      <th>Humidity</th>\n",
       "      <th>Lat</th>\n",
       "      <th>Lng</th>\n",
       "      <th>Max Temp</th>\n",
       "      <th>Wind Speed</th>\n",
       "    </tr>\n",
       "  </thead>\n",
       "  <tbody>\n",
       "    <tr>\n",
       "      <th>86</th>\n",
       "      <td>Loreto</td>\n",
       "      <td>0</td>\n",
       "      <td>MX</td>\n",
       "      <td>1592242766</td>\n",
       "      <td>30</td>\n",
       "      <td>22.27</td>\n",
       "      <td>-101.97</td>\n",
       "      <td>75.13</td>\n",
       "      <td>6.73</td>\n",
       "    </tr>\n",
       "    <tr>\n",
       "      <th>120</th>\n",
       "      <td>Porangatu</td>\n",
       "      <td>0</td>\n",
       "      <td>BR</td>\n",
       "      <td>1592242820</td>\n",
       "      <td>33</td>\n",
       "      <td>-13.44</td>\n",
       "      <td>-49.15</td>\n",
       "      <td>87.89</td>\n",
       "      <td>6.93</td>\n",
       "    </tr>\n",
       "    <tr>\n",
       "      <th>170</th>\n",
       "      <td>Tiznit Province</td>\n",
       "      <td>0</td>\n",
       "      <td>MA</td>\n",
       "      <td>1592242702</td>\n",
       "      <td>22</td>\n",
       "      <td>29.58</td>\n",
       "      <td>-9.50</td>\n",
       "      <td>80.28</td>\n",
       "      <td>6.87</td>\n",
       "    </tr>\n",
       "    <tr>\n",
       "      <th>174</th>\n",
       "      <td>Khāsh</td>\n",
       "      <td>0</td>\n",
       "      <td>IR</td>\n",
       "      <td>1592242898</td>\n",
       "      <td>13</td>\n",
       "      <td>28.22</td>\n",
       "      <td>61.22</td>\n",
       "      <td>80.49</td>\n",
       "      <td>2.55</td>\n",
       "    </tr>\n",
       "    <tr>\n",
       "      <th>314</th>\n",
       "      <td>Marsá Maţrūḩ</td>\n",
       "      <td>0</td>\n",
       "      <td>EG</td>\n",
       "      <td>1592243102</td>\n",
       "      <td>69</td>\n",
       "      <td>31.35</td>\n",
       "      <td>27.25</td>\n",
       "      <td>75.20</td>\n",
       "      <td>6.93</td>\n",
       "    </tr>\n",
       "  </tbody>\n",
       "</table>\n",
       "</div>"
      ],
      "text/plain": [
       "                City  Cloudiness Country        Date  Humidity    Lat     Lng  \\\n",
       "86            Loreto           0      MX  1592242766        30  22.27 -101.97   \n",
       "120        Porangatu           0      BR  1592242820        33 -13.44  -49.15   \n",
       "170  Tiznit Province           0      MA  1592242702        22  29.58   -9.50   \n",
       "174            Khāsh           0      IR  1592242898        13  28.22   61.22   \n",
       "314     Marsá Maţrūḩ           0      EG  1592243102        69  31.35   27.25   \n",
       "\n",
       "     Max Temp  Wind Speed  \n",
       "86      75.13        6.73  \n",
       "120     87.89        6.93  \n",
       "170     80.28        6.87  \n",
       "174     80.49        2.55  \n",
       "314     75.20        6.93  "
      ]
     },
     "execution_count": 16,
     "metadata": {},
     "output_type": "execute_result"
    }
   ],
   "source": [
    "#isolate cities w/ a max temp in between 75-90 deg F, wind speed < 10 mph, and 0 cloudiness and create new df\n",
    "hotel_df = df.loc[(df['Max Temp'] > 75) & (df['Max Temp'] < 90) & (df['Wind Speed'] < 10) & (df['Cloudiness'] == 0)]\n",
    "hotel_df.head()"
   ]
  },
  {
   "cell_type": "code",
   "execution_count": 17,
   "metadata": {},
   "outputs": [
    {
     "name": "stdout",
     "output_type": "stream",
     "text": [
      "<class 'pandas.core.frame.DataFrame'>\n",
      "Int64Index: 9 entries, 86 to 577\n",
      "Data columns (total 9 columns):\n",
      " #   Column      Non-Null Count  Dtype  \n",
      "---  ------      --------------  -----  \n",
      " 0   City        9 non-null      object \n",
      " 1   Cloudiness  9 non-null      int64  \n",
      " 2   Country     9 non-null      object \n",
      " 3   Date        9 non-null      int64  \n",
      " 4   Humidity    9 non-null      int64  \n",
      " 5   Lat         9 non-null      float64\n",
      " 6   Lng         9 non-null      float64\n",
      " 7   Max Temp    9 non-null      float64\n",
      " 8   Wind Speed  9 non-null      float64\n",
      "dtypes: float64(4), int64(3), object(2)\n",
      "memory usage: 720.0+ bytes\n"
     ]
    }
   ],
   "source": [
    "hotel_df.info()"
   ]
  },
  {
   "cell_type": "markdown",
   "metadata": {},
   "source": [
    "## **Hotels in Ideal Locations**"
   ]
  },
  {
   "cell_type": "code",
   "execution_count": 18,
   "metadata": {},
   "outputs": [
    {
     "name": "stderr",
     "output_type": "stream",
     "text": [
      "C:\\Users\\Tommy\\Anaconda3\\lib\\site-packages\\ipykernel_launcher.py:26: SettingWithCopyWarning: \n",
      "A value is trying to be set on a copy of a slice from a DataFrame.\n",
      "Try using .loc[row_indexer,col_indexer] = value instead\n",
      "\n",
      "See the caveats in the documentation: https://pandas.pydata.org/pandas-docs/stable/user_guide/indexing.html#returning-a-view-versus-a-copy\n"
     ]
    }
   ],
   "source": [
    "#assign lat and long from df to a list\n",
    "ideal_locations = list(zip(hotel_df['Lat'], hotel_df['Lng']))\n",
    "\n",
    "#assign base url for google maps api to a variable\n",
    "base_url = 'https://maps.googleapis.com/maps/api/place/textsearch/json'\n",
    "\n",
    "#initiate empty list to store hotels\n",
    "hotels = []\n",
    "\n",
    "#loop through ideal locations and perform API request\n",
    "for location in ideal_locations:\n",
    "    \n",
    "    #create paramters dictionary to search for hotels based on location within a radius of 5000 m\n",
    "    params = {'query': 'hotel', 'key': g_key, 'location': f\"{location[0]}, {location[1]}\", 'radius':5000}\n",
    "    \n",
    "    #get response for each location\n",
    "    response = requests.get(base_url, params=params).json()\n",
    "    \n",
    "    #append response to hotels list\n",
    "    hotels.append(response)\n",
    "\n",
    "#return hotel names from responses and assign to a list    \n",
    "hotel_names = [hotels[i]['results'][0]['name'] for i in range(len(hotels))]\n",
    "\n",
    "#add new column to df for hotel name\n",
    "hotel_df['Hotel Name'] = hotel_names"
   ]
  },
  {
   "cell_type": "code",
   "execution_count": 19,
   "metadata": {},
   "outputs": [
    {
     "data": {
      "text/html": [
       "<div>\n",
       "<style scoped>\n",
       "    .dataframe tbody tr th:only-of-type {\n",
       "        vertical-align: middle;\n",
       "    }\n",
       "\n",
       "    .dataframe tbody tr th {\n",
       "        vertical-align: top;\n",
       "    }\n",
       "\n",
       "    .dataframe thead th {\n",
       "        text-align: right;\n",
       "    }\n",
       "</style>\n",
       "<table border=\"1\" class=\"dataframe\">\n",
       "  <thead>\n",
       "    <tr style=\"text-align: right;\">\n",
       "      <th></th>\n",
       "      <th>City</th>\n",
       "      <th>Country</th>\n",
       "      <th>Lat</th>\n",
       "      <th>Lng</th>\n",
       "      <th>Hotel Name</th>\n",
       "    </tr>\n",
       "  </thead>\n",
       "  <tbody>\n",
       "    <tr>\n",
       "      <th>86</th>\n",
       "      <td>Loreto</td>\n",
       "      <td>MX</td>\n",
       "      <td>22.27</td>\n",
       "      <td>-101.97</td>\n",
       "      <td>Hacienda Hotel &amp; Spa Aguagordita</td>\n",
       "    </tr>\n",
       "    <tr>\n",
       "      <th>120</th>\n",
       "      <td>Porangatu</td>\n",
       "      <td>BR</td>\n",
       "      <td>-13.44</td>\n",
       "      <td>-49.15</td>\n",
       "      <td>Lagoa Hotel Porangatu</td>\n",
       "    </tr>\n",
       "    <tr>\n",
       "      <th>170</th>\n",
       "      <td>Tiznit Province</td>\n",
       "      <td>MA</td>\n",
       "      <td>29.58</td>\n",
       "      <td>-9.50</td>\n",
       "      <td>Hotel kerdous</td>\n",
       "    </tr>\n",
       "    <tr>\n",
       "      <th>174</th>\n",
       "      <td>Khāsh</td>\n",
       "      <td>IR</td>\n",
       "      <td>28.22</td>\n",
       "      <td>61.22</td>\n",
       "      <td>خوابگاه دانشجویی خاش</td>\n",
       "    </tr>\n",
       "    <tr>\n",
       "      <th>314</th>\n",
       "      <td>Marsá Maţrūḩ</td>\n",
       "      <td>EG</td>\n",
       "      <td>31.35</td>\n",
       "      <td>27.25</td>\n",
       "      <td>Carols Beau Rivage Hotel - فندق كارولز بوريفاج</td>\n",
       "    </tr>\n",
       "    <tr>\n",
       "      <th>361</th>\n",
       "      <td>São João do Piauí</td>\n",
       "      <td>BR</td>\n",
       "      <td>-8.36</td>\n",
       "      <td>-42.25</td>\n",
       "      <td>Nayra Palace Hotel</td>\n",
       "    </tr>\n",
       "    <tr>\n",
       "      <th>403</th>\n",
       "      <td>Praia</td>\n",
       "      <td>CV</td>\n",
       "      <td>14.92</td>\n",
       "      <td>-23.51</td>\n",
       "      <td>Hotel Oasis Atlantico Praiamar</td>\n",
       "    </tr>\n",
       "    <tr>\n",
       "      <th>491</th>\n",
       "      <td>Urgut</td>\n",
       "      <td>UZ</td>\n",
       "      <td>39.40</td>\n",
       "      <td>67.24</td>\n",
       "      <td>SAFAR ali HOTEL</td>\n",
       "    </tr>\n",
       "    <tr>\n",
       "      <th>577</th>\n",
       "      <td>Fuerte Olimpo</td>\n",
       "      <td>PY</td>\n",
       "      <td>-21.04</td>\n",
       "      <td>-57.87</td>\n",
       "      <td>Hotel AA</td>\n",
       "    </tr>\n",
       "  </tbody>\n",
       "</table>\n",
       "</div>"
      ],
      "text/plain": [
       "                  City Country    Lat     Lng  \\\n",
       "86              Loreto      MX  22.27 -101.97   \n",
       "120          Porangatu      BR -13.44  -49.15   \n",
       "170    Tiznit Province      MA  29.58   -9.50   \n",
       "174              Khāsh      IR  28.22   61.22   \n",
       "314       Marsá Maţrūḩ      EG  31.35   27.25   \n",
       "361  São João do Piauí      BR  -8.36  -42.25   \n",
       "403              Praia      CV  14.92  -23.51   \n",
       "491              Urgut      UZ  39.40   67.24   \n",
       "577      Fuerte Olimpo      PY -21.04  -57.87   \n",
       "\n",
       "                                         Hotel Name  \n",
       "86                 Hacienda Hotel & Spa Aguagordita  \n",
       "120                           Lagoa Hotel Porangatu  \n",
       "170                                   Hotel kerdous  \n",
       "174                            خوابگاه دانشجویی خاش  \n",
       "314  Carols Beau Rivage Hotel - فندق كارولز بوريفاج  \n",
       "361                              Nayra Palace Hotel  \n",
       "403                  Hotel Oasis Atlantico Praiamar  \n",
       "491                                 SAFAR ali HOTEL  \n",
       "577                                        Hotel AA  "
      ]
     },
     "execution_count": 19,
     "metadata": {},
     "output_type": "execute_result"
    }
   ],
   "source": [
    "hotel_df = hotel_df[['City', 'Country', 'Lat', 'Lng', 'Hotel Name']]\n",
    "hotel_df"
   ]
  },
  {
   "cell_type": "code",
   "execution_count": 20,
   "metadata": {},
   "outputs": [
    {
     "name": "stdout",
     "output_type": "stream",
     "text": [
      "<class 'pandas.core.frame.DataFrame'>\n",
      "Int64Index: 9 entries, 86 to 577\n",
      "Data columns (total 5 columns):\n",
      " #   Column      Non-Null Count  Dtype  \n",
      "---  ------      --------------  -----  \n",
      " 0   City        9 non-null      object \n",
      " 1   Country     9 non-null      object \n",
      " 2   Lat         9 non-null      float64\n",
      " 3   Lng         9 non-null      float64\n",
      " 4   Hotel Name  9 non-null      object \n",
      "dtypes: float64(2), object(3)\n",
      "memory usage: 432.0+ bytes\n"
     ]
    }
   ],
   "source": [
    "hotel_df.info()"
   ]
  },
  {
   "cell_type": "markdown",
   "metadata": {},
   "source": [
    "## **Heatmap w/ Hotel Locations**"
   ]
  },
  {
   "cell_type": "code",
   "execution_count": 21,
   "metadata": {},
   "outputs": [
    {
     "data": {
      "application/vnd.jupyter.widget-view+json": {
       "model_id": "59387a5fe3a249218e69227ec1142191",
       "version_major": 2,
       "version_minor": 0
      },
      "text/plain": [
       "Figure(layout=FigureLayout(border='1px solid black', height='600px', padding='1px', width='900px'))"
      ]
     },
     "metadata": {},
     "output_type": "display_data"
    }
   ],
   "source": [
    "# create template for info box\n",
    "info_box_template = \"\"\"\n",
    "<dl>\n",
    "<dt>Name</dt><dd>{Hotel Name}</dd>\n",
    "<dt>City</dt><dd>{City}</dd>\n",
    "<dt>Country</dt><dd>{Country}</dd>\n",
    "</dl>\n",
    "\"\"\"\n",
    "# Store the DataFrame Row\n",
    "hotel_info = [info_box_template.format(**row) for index, row in hotel_df.iterrows()]\n",
    "\n",
    "#assign locations from df to a variable\n",
    "hotel_locations = hotel_df[[\"Lat\", \"Lng\"]]\n",
    "\n",
    "#add markers for hotels to gmap, with info box showing hotel name, city, and country\n",
    "marker_layer = gmaps.marker_layer(hotel_locations, info_box_content=hotel_info)\n",
    "fig.add_layer(marker_layer)\n",
    "fig"
   ]
  }
 ],
 "metadata": {
  "kernelspec": {
   "display_name": "Python 3.7.4 64-bit ('base': conda)",
   "language": "python",
   "name": "python37464bitbaseconda68e905bc638043beabf2e502caa344b2"
  },
  "language_info": {
   "codemirror_mode": {
    "name": "ipython",
    "version": 3
   },
   "file_extension": ".py",
   "mimetype": "text/x-python",
   "name": "python",
   "nbconvert_exporter": "python",
   "pygments_lexer": "ipython3",
   "version": "3.7.7"
  }
 },
 "nbformat": 4,
 "nbformat_minor": 4
}
